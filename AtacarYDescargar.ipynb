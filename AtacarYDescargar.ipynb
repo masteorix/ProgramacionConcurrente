{
 "cells": [
  {
   "cell_type": "markdown",
   "id": "8bd7d8bc-147a-4ab6-b377-521fb7833319",
   "metadata": {},
   "source": [
    "<!-- PROFILE LINK -->\n",
    "\n",
    "<h1 style = \"text-align:center; font-size: 30px\">PROGRAMACIÓN CONCURRENTE Y DISTRIBUIDA</h1>\n",
    "<a href =\"https://github.com/masteorix\">\n",
    "<img src=\"https://avatars.githubusercontent.com/u/52229171?s=400&u=1b76469210566f28c3fcc424e0408d009b7f3925&v=4\" style=\"float:left;vertical-align:centre\" width=\"110\" height=\"110\" title = \"Andres Jesus Bermudez Moquillaza 22045519\">\n",
    "<a href =\"https://github.com/masteorix?tab=repositories\">\n",
    "<img src=\"https://media-exp1.licdn.com/dms/image/C4D0BAQEu_Aa76fcmPw/company-logo_200_200/0/1630998679429?e=2159024400&v=beta&t=2feC9GG7RWCWizTqsK5HzDWB1TL2DOQuAVwnMf6FFvk\" title = \"M41\" alt=\"UE\" width=\"110\" height=\"110\" style=\"float:right;vertical-align:centre\">"
   ]
  },
  {
   "cell_type": "code",
   "execution_count": null,
   "id": "a4b91b44-24ce-447c-b4bc-5aea09f86ee3",
   "metadata": {},
   "outputs": [],
   "source": [
    "import threading, os, platform, requests, json\n",
    "url_git=\"https://github.com/sukuzhanay\"\n",
    "url_linkedin=\"https://www.linkedin.com/in/sucuzhanay/\"\n",
    "url_credly=\"https://www.credly.com/users/christian-vladimir-sucuzhanay-arevalo/badges\"\n",
    "url_stack=\"https://stackoverflow.com/users/6025932/christian-vladimir-sucuzhanay\"\n",
    "url_cloudskill=\"https://www.cloudskillsboost.google/public_profiles/c094dd66-f266-4f77-a808-a0601b187009\"\n",
    "\n",
    "numero_veces_matar_git=100\n",
    "numero_veces_matar_linkedin=50\n",
    "numero_veces_matar_credly=20\n",
    "numero_veces_matar_stack=30\n",
    "numero_veces_matar_cloudskill=20\n",
    "\n",
    "\n",
    "def matar_uem(url1,frase):\n",
    "    print(str(requests.get(url1)) + str(frase))\n",
    "    threading.current_thread()\n",
    "\n",
    "for i in range(numero_veces_matar_git):\n",
    "    threading.Thread(target=matar_uem(url_git,\"de git\")).start() ##crea un hilo y que ese hilo se encargue de matar y asi se crearan varios hilos\n",
    "\n",
    "for i in range(numero_veces_matar_linkedin):\n",
    "    threading.Thread(target=matar_uem(url_linkedin,\"de linkedin\")).start() ##crea un hilo y que ese hilo se encargue de matar y asi se crearan varios hilos\n",
    "\n",
    "for i in range(numero_veces_matar_credly):\n",
    "    threading.Thread(target=matar_uem(url_credly,\"de credly\")).start() ##crea un hilo y que ese hilo se encargue de matar y asi se crearan varios hilos\n",
    "\n",
    "for i in range(numero_veces_matar_stack):\n",
    "    threading.Thread(target=matar_uem(url_stack,\"de stack\")).start() ##crea un hilo y que ese hilo se encargue de matar y asi se crearan varios hilos\n",
    "\n",
    "for i in range(numero_veces_matar_cloudskill):\n",
    "    threading.Thread(target=matar_uem(url_cloudskill,\"de cloudskill\")).start() ##crea un hilo y que ese hilo se encargue de matar y asi se crearan varios hilos\n"
   ]
  },
  {
   "cell_type": "code",
   "execution_count": 16,
   "id": "dbbb9073-0640-4051-b18f-396a58b93f81",
   "metadata": {},
   "outputs": [],
   "source": [
    "import time\n",
    "import threading, os, platform, requests, json\n",
    "import shutil\n",
    "\n",
    "urlDescargar=\"https://drive.google.com/uc?export=download&id=1ADxSr55eYTRSRF-44LXnKbY4n5bMWaY-\"\n",
    "\n",
    "def desc(urlMaster):\n",
    "    response=requests.get(urlMaster)\n",
    "    threading.current_thread() ## ver cual es el thread\n",
    "    \n",
    "    with open('output.pdf', 'wb') as file:\n",
    "        file.write(response.content)\n",
    "    \n",
    "y=0\n",
    "for i in range(5):  ## crear 5 hilos para descargar el pdf\n",
    "    threading.Thread(target=desc(urlDescargar)).start() ##crea un hilo y que ese hilo se encargue de matar y asi se crearan varios hilos\n",
    "    y=y+1"
   ]
  },
  {
   "cell_type": "code",
   "execution_count": null,
   "id": "454f3c8c-3dc2-462b-b35e-68e0c060b8e4",
   "metadata": {},
   "outputs": [],
   "source": []
  }
 ],
 "metadata": {
  "kernelspec": {
   "display_name": "Python 3 (ipykernel)",
   "language": "python",
   "name": "python3"
  },
  "language_info": {
   "codemirror_mode": {
    "name": "ipython",
    "version": 3
   },
   "file_extension": ".py",
   "mimetype": "text/x-python",
   "name": "python",
   "nbconvert_exporter": "python",
   "pygments_lexer": "ipython3",
   "version": "3.10.2"
  }
 },
 "nbformat": 4,
 "nbformat_minor": 5
}
