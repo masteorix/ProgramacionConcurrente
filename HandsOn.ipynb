{
 "cells": [
  {
   "cell_type": "markdown",
   "id": "87639624-0ec9-4f3c-a9c5-72f983677166",
   "metadata": {},
   "source": [
    "<!-- PROFILE LINK -->\n",
    "\n",
    "<h1 style = \"text-align:center; font-size: 30px\">PROGRAMACIÓN CONCURRENTE Y DISTRIBUIDA</h1>\n",
    "<a href =\"https://github.com/masteorix\">\n",
    "<img src=\"https://avatars.githubusercontent.com/u/52229171?s=400&u=1b76469210566f28c3fcc424e0408d009b7f3925&v=4\" style=\"float:left;vertical-align:centre\" width=\"110\" height=\"110\" title = \"Andres Jesus Bermudez Moquillaza 22045519\">\n",
    "<a href =\"https://github.com/masteorix?tab=repositories\">\n",
    "<img src=\"https://media-exp1.licdn.com/dms/image/C4D0BAQEu_Aa76fcmPw/company-logo_200_200/0/1630998679429?e=2159024400&v=beta&t=2feC9GG7RWCWizTqsK5HzDWB1TL2DOQuAVwnMf6FFvk\" title = \"M41\" alt=\"UE\" width=\"110\" height=\"110\" style=\"float:right;vertical-align:centre\">"
   ]
  },
  {
   "cell_type": "markdown",
   "id": "d2961b5e-aa37-4465-9bc0-56ac23fad83c",
   "metadata": {
    "tags": []
   },
   "source": [
    "# Hands on 01"
   ]
  },
  {
   "cell_type": "markdown",
   "id": "e065f154-bda2-4aa6-9af0-9d0286fcf409",
   "metadata": {},
   "source": [
    "# Env. Setup, important commands."
   ]
  },
  {
   "cell_type": "code",
   "execution_count": 14,
   "id": "31e13b3b-edde-49ce-ba85-1babc6973c68",
   "metadata": {},
   "outputs": [
    {
     "name": "stdout",
     "output_type": "stream",
     "text": [
      " Volume in drive E is New Volume\n",
      " Volume Serial Number is 40B1-74FE\n",
      "\n",
      " Directory of E:\\\n",
      "\n",
      "\n",
      " Directory of E:\\UEM CURSOS\\Prog Concurrent\\Proyectos\n",
      "\n",
      "\n",
      " Directory of E:\\UEM CURSOS\\Prog Concurrent\\Proyectos\n",
      "\n"
     ]
    },
    {
     "name": "stderr",
     "output_type": "stream",
     "text": [
      "File Not Found\n",
      "File Not Found\n"
     ]
    }
   ],
   "source": [
    "ls # list files"
   ]
  },
  {
   "cell_type": "code",
   "execution_count": 11,
   "id": "f946fb27-6091-4f67-96ec-2bc9788af799",
   "metadata": {},
   "outputs": [
    {
     "data": {
      "text/plain": [
       "'E:\\\\UEM CURSOS\\\\Prog Concurrent\\\\Proyectos'"
      ]
     },
     "execution_count": 11,
     "metadata": {},
     "output_type": "execute_result"
    }
   ],
   "source": [
    "pwd #where I am"
   ]
  },
  {
   "cell_type": "code",
   "execution_count": 13,
   "id": "52d86156-228b-46e7-941f-33da95c28b22",
   "metadata": {},
   "outputs": [
    {
     "name": "stderr",
     "output_type": "stream",
     "text": [
      "fatal: not a git repository (or any of the parent directories): .git\n"
     ]
    }
   ],
   "source": [
    "!git status #saber si es un repo"
   ]
  },
  {
   "cell_type": "code",
   "execution_count": null,
   "id": "0842d697-5aef-4e84-bb68-770f86e7343c",
   "metadata": {},
   "outputs": [],
   "source": []
  }
 ],
 "metadata": {
  "kernelspec": {
   "display_name": "Python 3 (ipykernel)",
   "language": "python",
   "name": "python3"
  },
  "language_info": {
   "codemirror_mode": {
    "name": "ipython",
    "version": 3
   },
   "file_extension": ".py",
   "mimetype": "text/x-python",
   "name": "python",
   "nbconvert_exporter": "python",
   "pygments_lexer": "ipython3",
   "version": "3.10.2"
  }
 },
 "nbformat": 4,
 "nbformat_minor": 5
}
