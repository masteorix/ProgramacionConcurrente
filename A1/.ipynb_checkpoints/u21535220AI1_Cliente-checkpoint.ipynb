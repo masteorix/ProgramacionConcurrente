{
 "cells": [
  {
   "cell_type": "markdown",
   "id": "b1b8eaa2-7378-4f21-8551-d04eeda6df3e",
   "metadata": {},
   "source": [
    "<!-- PROFILE LINK -->\n",
    "\n",
    "<h1 style = \"text-align:center; font-size: 30px\">PROGRAMACIÓN CONCURRENTE Y DISTRIBUIDA</h1>\n",
    "<h2 style = \"text-align:center; font-size: 30px\">ACTIVIDAD Al1 -- ARCHIVO DE CLIENTE</h1>\n",
    "\n",
    "<a href =\"https://github.com/masteorix\">\n",
    "<img src=\"https://avatars.githubusercontent.com/u/52229171?s=400&u=1b76469210566f28c3fcc424e0408d009b7f3925&v=4\" style=\"float:left;vertical-align:centre\" width=\"110\" height=\"110\" title = \"Andres Jesus Bermudez Moquillaza 22045519\">\n",
    "<a href =\"https://github.com/masteorix?tab=repositories\">\n",
    "<img src=\"https://media-exp1.licdn.com/dms/image/C4D0BAQEu_Aa76fcmPw/company-logo_200_200/0/1630998679429?e=2159024400&v=beta&t=2feC9GG7RWCWizTqsK5HzDWB1TL2DOQuAVwnMf6FFvk\" title = \"M41\" alt=\"UE\" width=\"110\" height=\"110\" style=\"float:right;vertical-align:centre\">"
   ]
  },
  {
   "cell_type": "markdown",
   "id": "fed241b6-7221-41ae-862c-dd59cf9186e7",
   "metadata": {
    "tags": []
   },
   "source": [
    "#### Enlace a repositorio --> https://github.com/masteorix/ProgramacionConcurrente --> Al1/u21535220AI1_Cliente \n",
    "#### Las evidencias de las preguntas a, b, c y d están adjuntas en el repositorio"
   ]
  },
  {
   "cell_type": "code",
   "execution_count": null,
   "id": "d9b94000-7048-4f30-85d5-a80e06ad63a4",
   "metadata": {},
   "outputs": [],
   "source": [
    "import threading\n",
    "import sys\n",
    "import socket\n",
    "import pickle\n",
    "import os\n",
    "\n",
    "class Cliente():\n",
    "\n",
    "\tdef __init__(self, host=input(\"Intoduzca la IP del servidor ?  \"), port=int(input(\"Intoduzca el PUERTO del servidor ?  \")),nickname=input(\"Cual es tu nickname ? \")):\n",
    "\t\tself.s = socket.socket()\n",
    "\t\tself.s.connect((host, int(port)))\n",
    "\t\tprint('\\n\\tProceso con PID = ',os.getpid(), '\\n\\tHilo PRINCIPAL con ID =',threading.currentThread().getName(), '\\n\\tHilo en modo DAEMON = ', threading.currentThread().isDaemon(),'\\n\\tTotal Hilos activos en este punto del programa =', threading.active_count())\n",
    "\t\tthreading.Thread(target=self.recibir, daemon=True).start()\n",
    "\n",
    "\t\twhile True:\n",
    "\t\t\tmsg =input('\\nEscriba texto ?   ** Enviar = ENTER   ** Salir Chat = 1 \\n')\n",
    "\t\t\twith open(\"u22045519AI1.txt\", \"a\") as f:\n",
    "\t\t\t\tf.write(\"\\n\" + nickname + \":\" + msg)\n",
    "\t\t\t\tf.close()\n",
    "\t\t\tif msg != '1' : \n",
    "\t\t\t\tmsg =nickname+ \":  \" + msg\n",
    "\t\t\t\tself.enviar(msg)\n",
    "\t\t\telse:\n",
    "\t\t\t\tprint(\" **** Me piro vampiro; cierro socket y mato al CLIENTE con PID = \", os.getpid())\n",
    "\t\t\t\tself.s.close()\n",
    "\t\t\t\tsys.exit()\n",
    "\n",
    "\tdef recibir(self):\n",
    "\t\tprint('\\nHilo RECIBIR con ID =',threading.currentThread().getName(), '\\n\\tPertenece al PROCESO con PID', os.getpid(), \"\\n\\tHilos activos TOTALES \", threading.active_count())\n",
    "\t\twhile True:\n",
    "\t\t\ttry:\n",
    "\t\t\t\tdata = self.s.recv(64)\n",
    "\t\t\t\tif data: print(pickle.loads(data)) ##guardo lo que viene del otro lado del recibir, si hay algo, convertir a legible el dato binario\n",
    "\t\t\texcept: pass\n",
    "\n",
    "\tdef enviar(self, msg):\n",
    "\t\tself.s.send(pickle.dumps(msg)) ##serializar mensaje y enviar\n",
    "\n",
    "arrancar = Cliente()\n",
    "\n",
    "\t\t"
   ]
  },
  {
   "cell_type": "markdown",
   "id": "084e95b2-2848-425c-b990-0c2e6a9bb409",
   "metadata": {},
   "source": [
    "## Evidencia Pregunta a\n",
    "##### Se aprecia que se pide la ip y el puerto '45519', el cual contiene los últimos digitos de mi código de expediente 22045519."
   ]
  },
  {
   "cell_type": "markdown",
   "id": "b9b63810-2857-4a8e-948e-f5bed9fa5ddd",
   "metadata": {},
   "source": [
    "<img src=\"u22045519AI1_Pregunta_a.png\">"
   ]
  },
  {
   "cell_type": "markdown",
   "id": "385a6e85-1076-4b60-8ea3-057a363559a4",
   "metadata": {},
   "source": [
    "## Evidencia Pregunta b\n",
    "##### Se aprecia que se le pide al cliente que ingrese un nickname (22045519@live.uem.es) y que cuando este manda el mensaje \"hola soy andres\", su nombre sale al costado."
   ]
  },
  {
   "cell_type": "markdown",
   "id": "e0c9fa81-e995-49d8-9d65-0401adc328fd",
   "metadata": {},
   "source": [
    "<img src=\"u22045519AI1_Pregunta_b.png\">"
   ]
  },
  {
   "cell_type": "markdown",
   "id": "05416587-4e59-486e-9c28-b8621d8cc1ea",
   "metadata": {},
   "source": [
    "## Evidencia Pregunta c\n",
    "##### Se aprecia que cuando los usuarios \"22045519@uem.live.es\" y \"22045519@uem.live.com\" mandan mensajes, abajo sale la lista de los usuarios que están actualmente conectados. Es verdad que este método podría fallar en el futuro lejano pero por ahora cumple con lo solicitado, una lista de los usuarios conectados actualmente. Se ha usado regex para capturar los nicknames enviados en los mensajes y asi filtrarlo y guardarlo en una lista de nicknames."
   ]
  },
  {
   "cell_type": "markdown",
   "id": "6d45fac5-6726-4131-b660-d6d568ddb0df",
   "metadata": {},
   "source": [
    "<img src=\"u22045519AI1_Pregunta_c.png\">"
   ]
  },
  {
   "cell_type": "markdown",
   "id": "36f37b17-868a-4b50-a2ea-ecd7cdef04e5",
   "metadata": {},
   "source": [
    "## Evidencia Pregunta d\n",
    "##### Se aprecia que se ha creado un archivo con mi número de expediente (22045519) y que este tiene conversaciones vistas en preguntas anteriores. Cada vez que se enviaba un mensaje se abría el archivo para agregar cada nickname y mensaje en este."
   ]
  },
  {
   "cell_type": "markdown",
   "id": "975cf6ed-9928-4074-8e40-5b2886eeb154",
   "metadata": {},
   "source": [
    "<img src=\"u22045519AI1_Pregunta_c.png\">"
   ]
  },
  {
   "cell_type": "code",
   "execution_count": null,
   "id": "9dbc61ed-b3b8-46ae-a296-bd9ca84a057b",
   "metadata": {},
   "outputs": [],
   "source": []
  }
 ],
 "metadata": {
  "kernelspec": {
   "display_name": "Python 3 (ipykernel)",
   "language": "python",
   "name": "python3"
  },
  "language_info": {
   "codemirror_mode": {
    "name": "ipython",
    "version": 3
   },
   "file_extension": ".py",
   "mimetype": "text/x-python",
   "name": "python",
   "nbconvert_exporter": "python",
   "pygments_lexer": "ipython3",
   "version": "3.10.2"
  }
 },
 "nbformat": 4,
 "nbformat_minor": 5
}
