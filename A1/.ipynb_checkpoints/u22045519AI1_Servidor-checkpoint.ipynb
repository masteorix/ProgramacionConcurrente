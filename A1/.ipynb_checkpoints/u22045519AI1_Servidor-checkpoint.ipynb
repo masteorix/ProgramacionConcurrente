{
 "cells": [
  {
   "cell_type": "markdown",
   "id": "4825159a-7cab-4957-9d00-bfcb1a323401",
   "metadata": {},
   "source": [
    "<!-- PROFILE LINK -->\n",
    "\n",
    "<h1 style = \"text-align:center; font-size: 30px\">PROGRAMACIÓN CONCURRENTE Y DISTRIBUIDA</h1>\n",
    "<h2 style = \"text-align:center; font-size: 30px\">ACTIVIDAD Al1 -- ARCHIVO DE SERVIDOR</h1>\n",
    "\n",
    "<a href =\"https://github.com/masteorix\">\n",
    "<img src=\"https://avatars.githubusercontent.com/u/52229171?s=400&u=1b76469210566f28c3fcc424e0408d009b7f3925&v=4\" style=\"float:left;vertical-align:centre\" width=\"110\" height=\"110\" title = \"Andres Jesus Bermudez Moquillaza 22045519\">\n",
    "<a href =\"https://github.com/masteorix?tab=repositories\">\n",
    "<img src=\"https://media-exp1.licdn.com/dms/image/C4D0BAQEu_Aa76fcmPw/company-logo_200_200/0/1630998679429?e=2159024400&v=beta&t=2feC9GG7RWCWizTqsK5HzDWB1TL2DOQuAVwnMf6FFvk\" title = \"M41\" alt=\"UE\" width=\"110\" height=\"110\" style=\"float:right;vertical-align:centre\">"
   ]
  },
  {
   "cell_type": "markdown",
   "id": "c0600737-3598-49ed-b17e-2e8c15f254d4",
   "metadata": {},
   "source": [
    "#### Enlace a repositorio --> https://github.com/masteorix/ProgramacionConcurrente --> Al1/u22045519AI1_Servidor \n",
    "#### Las evidencias de las preguntas a,b y d están adjuntas en el repositorio"
   ]
  },
  {
   "cell_type": "code",
   "execution_count": null,
   "id": "26558b42-2f36-490b-8e51-3b3f826fc923",
   "metadata": {},
   "outputs": [],
   "source": [
    "import socket\n",
    "import threading\n",
    "import sys\n",
    "import pickle\n",
    "import os\n",
    "import re as reg\n",
    "\n",
    "class Servidor(): ##se hace una clase para llamarla como el main en c\n",
    "\n",
    "\tdef __init__(self, host=socket.gethostname(), port=int(input(\"Que puerto quiere usar ? \"))): ## saber el puerto e ip del host\n",
    "\t\tself.clientes = []\n",
    "\t\tself.nicknames = []\n",
    "\t\tprint('\\nSu IP actual es : ',socket.gethostbyname(host))\n",
    "\t\tprint('\\n\\tProceso con PID = ',os.getpid(), '\\n\\tHilo PRINCIPAL con ID =',threading.currentThread().getName(), '\\n\\tHilo en modo DAEMON = ', threading.currentThread().isDaemon(), '\\n\\tTotal Hilos activos en este punto del programa =', threading.active_count())\n",
    "\t\tself.s = socket.socket()\n",
    "\t\tself.s.bind((str(host), int(port))) ## enlazar el host y el puerto\n",
    "\t\tself.s.listen(30)                   ## espera a que conexiones entren\n",
    "\t\tself.s.setblocking(False)\n",
    "\n",
    "\t\tthreading.Thread(target=self.aceptarC, daemon=True).start()   ## evitar race condition\n",
    "\t\tthreading.Thread(target=self.procesarC, daemon=True).start()\n",
    "\n",
    "\t\twhile True:                                                ## si le doy a 1 apago el servidor\n",
    "\t\t\tmsg = input('\\n << SALIR = 1 >> \\n')\n",
    "\t\t\tif msg == '1':\n",
    "\t\t\t\tprint(\" **** Me piro vampiro; cierro socket y mato SERVER con PID = \", os.getpid())\n",
    "\t\t\t\tself.s.close()\n",
    "\t\t\t\tsys.exit()\n",
    "\t\t\telse: pass\n",
    "\n",
    "\tdef aceptarC(self):\n",
    "\t\tprint('\\nHilo ACEPTAR con ID =',threading.currentThread().getName(), '\\n\\tHilo en modo DAEMON = ', threading.currentThread().isDaemon(),'\\n\\tPertenece al PROCESO con PID', os.getpid(), \"\\n\\tHilos activos TOTALES \", threading.active_count())\n",
    "\t\t\n",
    "\t\twhile True:\n",
    "\t\t\ttry:\n",
    "\t\t\t\tconn, addr = self.s.accept()\n",
    "\t\t\t\tprint(f\"\\nConexion aceptada via {addr}\\n\")\n",
    "\t\t\t\tconn.setblocking(False)\n",
    "\t\t\t\tself.clientes.append(conn)\n",
    "\t\t\texcept: pass\n",
    "\n",
    "\tdef procesarC(self):\n",
    "\t\tprint('\\nHilo PROCESAR con ID =',threading.currentThread().getName(), '\\n\\tHilo en modo DAEMON = ', threading.currentThread().isDaemon(),'\\n\\tPertenece al PROCESO con PID', os.getpid(), \"\\n\\tHilos activos TOTALES \", threading.active_count())  \n",
    "\t\twhile True:\n",
    "\t\t\tif len(self.clientes) > 0:   ##si no hay clientes conectados no se procesa\n",
    "\t\t\t\tfor c in self.clientes:\n",
    "\t\t\t\t\ttry:\n",
    "\t\t\t\t\t\tdata = c.recv(64)                   ##espero y si hay alguien hago el broadcast\n",
    "\t\t\t\t\t\tif data: self.broadcast(data,c)\n",
    "\t\t\t\t\texcept: pass\n",
    "\n",
    "\tdef broadcast(self, msg, cliente):        ##enviar el mensaje a todos\n",
    "\t\tstr=pickle.loads(msg)\n",
    "\t\tfound=reg.search('^[^ :]*',str)\n",
    "\t\tif found.group() not in self.nicknames:\n",
    "\t\t\tself.nicknames.append(found.group())\n",
    "\t\tfor c in self.clientes:               ## decir cuantos clientes hay conectados\n",
    "\t\t\tprint(\"Clientes conectados Right now = \", len(self.clientes))\n",
    "\t\t\tprint(\"LISTA DE CLIENTES (NICKNAMES)\")\n",
    "\t\t\tfor n in self.nicknames:\n",
    "\t\t\t\tprint(n)\n",
    "\t\t\ttry:\n",
    "\t\t\t\tif c != cliente:              ## si cliente != array cliente cargo el mensaje y lo envio a todos\n",
    "\t\t\t\t\tprint(pickle.loads(msg))\n",
    "\t\t\t\t\tc.send(msg)\n",
    "\t\t\texcept: self.clientes.remove(c)   ## si falla entonces no hay clientes y lo quito\n",
    "\n",
    "arrancar = Servidor() "
   ]
  },
  {
   "cell_type": "markdown",
   "id": "1c599a2d-7d51-4350-9c01-c96666247260",
   "metadata": {},
   "source": [
    "## Evidencia Pregunta a\n",
    "##### Se aprecia que se pide la ip y el puerto '45519', el cual contiene los últimos digitos de mi código de expediente 22045519."
   ]
  },
  {
   "cell_type": "markdown",
   "id": "bf3ad3ac-5a5c-45d2-9387-abb72a1464d8",
   "metadata": {},
   "source": [
    "<img src=\"https://raw.githubusercontent.com/masteorix/ProgramacionConcurrente/main/A1/u22045519AI1_Pregunta_a.png\">"
   ]
  },
  {
   "cell_type": "markdown",
   "id": "5e11ec12-b658-4102-a5c7-1e99d81b6b6e",
   "metadata": {},
   "source": [
    "## Evidencia Pregunta b\n",
    "##### Se aprecia que se le pide al cliente que ingrese un nickname (22045519@live.uem.es) y que cuando este manda el mensaje \"hola soy andres\", su nombre sale al costado."
   ]
  },
  {
   "cell_type": "markdown",
   "id": "476e6b40-ebaf-4627-9cb4-3705daa0d967",
   "metadata": {},
   "source": [
    "<img src=\"https://raw.githubusercontent.com/masteorix/ProgramacionConcurrente/main/A1/u22045519AI1_Pregunta_b.png\">"
   ]
  },
  {
   "cell_type": "markdown",
   "id": "4134588b-b34c-46c3-90b4-d89db2501e0f",
   "metadata": {},
   "source": [
    "## Evidencia Pregunta c\n",
    "##### Se aprecia que cuando los usuarios \"22045519@uem.live.es\" y \"22045519@uem.live.com\" mandan mensajes, abajo sale la lista de los usuarios que están actualmente conectados. Es verdad que este método podría fallar en el futuro lejano pero por ahora cumple con lo solicitado, una lista de los usuarios conectados actualmente. Se ha usado regex para capturar los nicknames enviados en los mensajes y asi filtrarlo y guardarlo en una lista de nicknames."
   ]
  },
  {
   "cell_type": "markdown",
   "id": "93b06172-aacc-47ba-80a3-e0ec75e6a9d1",
   "metadata": {},
   "source": [
    "<img src=\"https://raw.githubusercontent.com/masteorix/ProgramacionConcurrente/main/A1/u22045519AI1_Pregunta_c.png\">"
   ]
  },
  {
   "cell_type": "markdown",
   "id": "fb222597-0665-4385-948b-85de4be57221",
   "metadata": {},
   "source": [
    "## Evidencia Pregunta d\n",
    "##### Se aprecia que se ha creado un archivo con mi número de expediente (22045519) y que este tiene conversaciones vistas en preguntas anteriores. Cada vez que se enviaba un mensaje se abría el archivo para agregar cada nickname y mensaje en este."
   ]
  },
  {
   "cell_type": "markdown",
   "id": "1d2cc477-702b-4860-a9c3-f6d860fefd40",
   "metadata": {},
   "source": [
    "<img src=\"https://raw.githubusercontent.com/masteorix/ProgramacionConcurrente/main/A1/u22045519AI1_Pregunta_d.png\">"
   ]
  },
  {
   "cell_type": "code",
   "execution_count": null,
   "id": "7158fb31-6eb6-4684-bb8b-70af7e57d38b",
   "metadata": {},
   "outputs": [],
   "source": []
  }
 ],
 "metadata": {
  "kernelspec": {
   "display_name": "Python 3 (ipykernel)",
   "language": "python",
   "name": "python3"
  },
  "language_info": {
   "codemirror_mode": {
    "name": "ipython",
    "version": 3
   },
   "file_extension": ".py",
   "mimetype": "text/x-python",
   "name": "python",
   "nbconvert_exporter": "python",
   "pygments_lexer": "ipython3",
   "version": "3.10.2"
  }
 },
 "nbformat": 4,
 "nbformat_minor": 5
}
