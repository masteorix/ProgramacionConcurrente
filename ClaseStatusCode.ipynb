{
 "cells": [
  {
   "cell_type": "markdown",
   "id": "e68d5152-12d7-4321-b4b0-6c1943a0915c",
   "metadata": {},
   "source": [
    "<!-- PROFILE LINK -->\n",
    "\n",
    "<h1 style = \"text-align:center; font-size: 30px\">PROGRAMACIÓN CONCURRENTE Y DISTRIBUIDA</h1>\n",
    "<a href =\"https://github.com/masteorix\">\n",
    "<img src=\"https://avatars.githubusercontent.com/u/52229171?s=400&u=1b76469210566f28c3fcc424e0408d009b7f3925&v=4\" style=\"float:left;vertical-align:centre\" width=\"110\" height=\"110\" title = \"Andres Jesus Bermudez Moquillaza 22045519\">\n",
    "<a href =\"https://github.com/masteorix?tab=repositories\">\n",
    "<img src=\"https://media-exp1.licdn.com/dms/image/C4D0BAQEu_Aa76fcmPw/company-logo_200_200/0/1630998679429?e=2159024400&v=beta&t=2feC9GG7RWCWizTqsK5HzDWB1TL2DOQuAVwnMf6FFvk\" title = \"M41\" alt=\"UE\" width=\"110\" height=\"110\" style=\"float:right;vertical-align:centre\">"
   ]
  },
  {
   "cell_type": "code",
   "execution_count": null,
   "id": "ff82c125-fddf-4e99-b15d-032b141500c2",
   "metadata": {},
   "outputs": [],
   "source": [
    "import threading, os, platform, requests, json"
   ]
  },
  {
   "cell_type": "code",
   "execution_count": null,
   "id": "e29c0387-8e87-4285-8d9e-342ed7bdddff",
   "metadata": {},
   "outputs": [],
   "source": []
  },
  {
   "cell_type": "code",
   "execution_count": null,
   "id": "be42613d-15ab-4a99-b5f7-efb70876fdcd",
   "metadata": {},
   "outputs": [],
   "source": [
    "url_=\"https://github.com/sukuzhanay\""
   ]
  },
  {
   "cell_type": "code",
   "execution_count": null,
   "id": "bdc2393c-cbc1-45af-9744-061d3640e5b1",
   "metadata": {},
   "outputs": [],
   "source": [
    "numero_veces_matar_uem=1"
   ]
  },
  {
   "cell_type": "code",
   "execution_count": null,
   "id": "951f13c0-2601-426d-94c3-41bf1620446f",
   "metadata": {},
   "outputs": [],
   "source": [
    "from IPython import display\n",
    "display.Image(\"status.jpeg\")\n",
    "\n",
    "def matar_uem():\n",
    "    print(requests.get(url_))\n",
    "    threading.current_thread()\n",
    "\n",
    "for i in range(numero_veces_matar_uem):\n",
    "    threading.Thread(target=matar_uem()).start() ##crea un hilo y que ese hilo se encargue de matar y asi se crearan varios hilos"
   ]
  },
  {
   "cell_type": "code",
   "execution_count": null,
   "id": "5feb1b34-e838-4046-a397-d68616ee1d59",
   "metadata": {},
   "outputs": [],
   "source": [
    "res_=requests.get(\"https://rpubs.com/christian_sucuzhanay\")"
   ]
  },
  {
   "cell_type": "code",
   "execution_count": null,
   "id": "01c511d2-2205-43a0-8aad-cfde486e58e8",
   "metadata": {},
   "outputs": [],
   "source": [
    "res_.headers"
   ]
  },
  {
   "cell_type": "code",
   "execution_count": null,
   "id": "ebb39f2b-a6f6-4b7b-bfdd-9055defd194b",
   "metadata": {},
   "outputs": [],
   "source": [
    "html=res_.text"
   ]
  },
  {
   "cell_type": "code",
   "execution_count": 17,
   "id": "dbb67bf7-03c8-4882-ac3d-9b83b5628184",
   "metadata": {},
   "outputs": [
    {
     "name": "stdout",
     "output_type": "stream",
     "text": [
      "{'Date': 'Tue, 11 Oct 2022 13:08:11 GMT', 'Content-Type': 'text/html; charset=UTF-8', 'Transfer-Encoding': 'chunked', 'Connection': 'keep-alive', 'Expires': 'Wed, 11 Jan 1984 05:00:00 GMT', 'Cache-Control': 'no-cache, must-revalidate, max-age=0', 'Strict-Transport-Security': 'max-age=31536000; preload', 'X-Content-Type-Options': 'nosniff', 'X-XSS-Protection': '1; mode=block', 'Referrer-Policy': 'no-referrer-when-downgrade', 'Set-Cookie': 'tt_sesiones_5ade18d01ada899fb971c0ee37a1feae=tt_sesiones_bee2cd79450f3f6abc4e19e84f5e3b0f; path=/; secure; HttpOnly', 'Content-Encoding': 'gzip', 'Vary': 'User-Agent, Accept-Encoding', 'Age': '0', 'Server': 'HTTPd'}\n",
      "{'Server': 'nginx', 'Date': 'Tue, 11 Oct 2022 13:08:11 GMT', 'Content-Type': 'image/jpeg', 'Content-Length': '132786', 'Connection': 'keep-alive', 'Last-Modified': 'Tue, 19 Jul 2022 09:18:54 GMT', 'Expires': 'Wed, 19 Jul 2023 09:18:54 GMT', 'ETag': '\"7705ce8d40e2e1ef\"', 'Vary': 'Accept', 'Strict-Transport-Security': 'max-age=31536000', 'Cache-Control': 'max-age=2592000', 'X-rq': 'mad1 109 88 443', 'X-Cache': 'HIT', 'Accept-Ranges': 'bytes'}\n",
      "{'Date': 'Tue, 11 Oct 2022 13:08:12 GMT', 'Content-Type': 'image/jpeg', 'Transfer-Encoding': 'chunked', 'Connection': 'keep-alive', 'cache-control': 'max-age=604800', 'access-control-allow-origin': '*', 'Last-Modified': 'Tue Oct 19 2021 00:00:00 GMT+0000 (Coordinated Universal Time)'}\n",
      "{'Date': 'Tue, 11 Oct 2022 13:08:14 GMT', 'Content-Type': 'image/jpeg', 'Transfer-Encoding': 'chunked', 'Connection': 'keep-alive', 'cache-control': 'max-age=604800', 'access-control-allow-origin': '*', 'Last-Modified': 'Tue Oct 19 2021 00:00:00 GMT+0000 (Coordinated Universal Time)'}\n",
      "{'Date': 'Tue, 11 Oct 2022 13:08:15 GMT', 'Content-Type': 'image/jpeg', 'Transfer-Encoding': 'chunked', 'Connection': 'keep-alive', 'cache-control': 'max-age=604800', 'access-control-allow-origin': '*', 'Last-Modified': 'Tue Oct 19 2021 00:00:00 GMT+0000 (Coordinated Universal Time)'}\n",
      "{'Server': 'nginx', 'Date': 'Tue, 11 Oct 2022 13:08:17 GMT', 'Content-Type': 'image/jpeg', 'Content-Length': '1428016', 'Last-Modified': 'Sat, 24 Aug 2019 22:14:50 GMT', 'Connection': 'keep-alive', 'ETag': '\"5d61b6da-15ca30\"', 'Expires': 'Thu, 10 Nov 2022 13:08:17 GMT', 'Cache-Control': 'max-age=2592000', 'X-Frame-Options': 'SAMEORIGIN', 'Accept-Ranges': 'bytes'}\n",
      "{'Server': 'nginx', 'Date': 'Tue, 11 Oct 2022 13:08:21 GMT', 'Content-Type': 'image/jpeg', 'Content-Length': '1428016', 'Last-Modified': 'Sat, 24 Aug 2019 22:14:50 GMT', 'Connection': 'keep-alive', 'ETag': '\"5d61b6da-15ca30\"', 'Expires': 'Thu, 10 Nov 2022 13:08:21 GMT', 'Cache-Control': 'max-age=2592000', 'X-Frame-Options': 'SAMEORIGIN', 'Accept-Ranges': 'bytes'}\n",
      "{'Server': 'nginx', 'Date': 'Tue, 11 Oct 2022 13:08:25 GMT', 'Content-Type': 'image/jpeg', 'Content-Length': '1428016', 'Last-Modified': 'Sat, 24 Aug 2019 22:14:50 GMT', 'Connection': 'keep-alive', 'ETag': '\"5d61b6da-15ca30\"', 'Expires': 'Thu, 10 Nov 2022 13:08:25 GMT', 'Cache-Control': 'max-age=2592000', 'X-Frame-Options': 'SAMEORIGIN', 'Accept-Ranges': 'bytes'}\n",
      "{'Server': 'nginx', 'Date': 'Tue, 11 Oct 2022 13:08:31 GMT', 'Content-Type': 'image/jpeg', 'Content-Length': '1428016', 'Last-Modified': 'Sat, 24 Aug 2019 22:14:50 GMT', 'Connection': 'keep-alive', 'ETag': '\"5d61b6da-15ca30\"', 'Expires': 'Thu, 10 Nov 2022 13:08:31 GMT', 'Cache-Control': 'max-age=2592000', 'X-Frame-Options': 'SAMEORIGIN', 'Accept-Ranges': 'bytes'}\n",
      "Execution time: 22.816288232803345 seconds\n"
     ]
    }
   ],
   "source": [
    "##EDITAR ESTO, SOLO DEBE SER UNA URL POR THREAD --> POSIBLE SOLUCION ES RECORRER LA LISTA EN EL FOR CON EL NUMERO VECES MATAR Y 1 URL POR THREAD\n",
    "import time\n",
    "\n",
    "st = time.time()\n",
    "\n",
    "url2= [\"https://www.tooltyp.com/wp-content/uploads/2014/10/1900x920-8-beneficios-de-usar-imagenes-en-nuestros-sitios-web.jpgy\",\"https://empresas.blogthinkbig.com/wp-content/uploads/2019/11/Imagen3-245003649.jpg?w=800\",\"https://c8.alamy.com/compes/dmw74c/cadenas-pesadas-de-grandes-barcos-dmw74c.jpg\",\"https://c8.alamy.com/compes/dmw74c/cadenas-pesadas-de-grandes-barcos-dmw74c.jpg\",\"https://c8.alamy.com/compes/dmw74c/cadenas-pesadas-de-grandes-barcos-dmw74c.jpg\",\"https://fondosmil.com/fondo/17009.jpg\",\"https://fondosmil.com/fondo/17009.jpg\",\"https://fondosmil.com/fondo/17009.jpg\",\"https://fondosmil.com/fondo/17009.jpg\"]\n",
    "def desc(urlMaster):\n",
    "    #print(requests.get(u))\n",
    "    response=requests.get(urlMaster)\n",
    "    print(response.headers)\n",
    "    threading.current_thread() ## ver cual es el thread\n",
    "y=0\n",
    "for i in range(len(url2)):\n",
    "    threading.Thread(target=desc(url2[y])).start() ##crea un hilo y que ese hilo se encargue de matar y asi se crearan varios hilos\n",
    "    y=y+1\n",
    "    \n",
    "et = time.time()\n",
    "elapsed_time = et - st\n",
    "print('Execution time:', elapsed_time, 'seconds')"
   ]
  },
  {
   "cell_type": "code",
   "execution_count": 18,
   "id": "adf862da-7ce2-4824-900f-173cdf0361fc",
   "metadata": {},
   "outputs": [
    {
     "name": "stdout",
     "output_type": "stream",
     "text": [
      "{'Date': 'Tue, 11 Oct 2022 13:08:59 GMT', 'Content-Type': 'text/html; charset=UTF-8', 'Transfer-Encoding': 'chunked', 'Connection': 'keep-alive', 'Expires': 'Wed, 11 Jan 1984 05:00:00 GMT', 'Cache-Control': 'no-cache, must-revalidate, max-age=0', 'Strict-Transport-Security': 'max-age=31536000; preload', 'X-Content-Type-Options': 'nosniff', 'X-XSS-Protection': '1; mode=block', 'Referrer-Policy': 'no-referrer-when-downgrade', 'Set-Cookie': 'tt_sesiones_5ade18d01ada899fb971c0ee37a1feae=tt_sesiones_2905db1d795d6fb4a0880747f0a3c19b; path=/; secure; HttpOnly', 'Content-Encoding': 'gzip', 'Vary': 'User-Agent, Accept-Encoding', 'Age': '0', 'Server': 'HTTPd'}\n",
      "{'Server': 'nginx', 'Date': 'Tue, 11 Oct 2022 13:09:00 GMT', 'Content-Type': 'image/jpeg', 'Content-Length': '132786', 'Connection': 'keep-alive', 'Last-Modified': 'Tue, 19 Jul 2022 09:18:54 GMT', 'Expires': 'Wed, 19 Jul 2023 09:18:54 GMT', 'ETag': '\"7705ce8d40e2e1ef\"', 'Vary': 'Accept', 'Strict-Transport-Security': 'max-age=31536000', 'Cache-Control': 'max-age=2592000', 'X-rq': 'mad1 109 88 443', 'X-Cache': 'HIT', 'Accept-Ranges': 'bytes'}\n",
      "{'Date': 'Tue, 11 Oct 2022 13:09:02 GMT', 'Content-Type': 'image/jpeg', 'Transfer-Encoding': 'chunked', 'Connection': 'keep-alive', 'cache-control': 'max-age=604800', 'access-control-allow-origin': '*', 'Last-Modified': 'Tue Oct 19 2021 00:00:00 GMT+0000 (Coordinated Universal Time)'}\n",
      "{'Date': 'Tue, 11 Oct 2022 13:09:11 GMT', 'Content-Type': 'image/jpeg', 'Transfer-Encoding': 'chunked', 'Connection': 'keep-alive', 'cache-control': 'max-age=604800', 'access-control-allow-origin': '*', 'Last-Modified': 'Tue Oct 19 2021 00:00:00 GMT+0000 (Coordinated Universal Time)'}\n",
      "{'Date': 'Tue, 11 Oct 2022 13:09:15 GMT', 'Content-Type': 'image/jpeg', 'Transfer-Encoding': 'chunked', 'Connection': 'keep-alive', 'cache-control': 'max-age=604800', 'access-control-allow-origin': '*', 'Last-Modified': 'Tue Oct 19 2021 00:00:00 GMT+0000 (Coordinated Universal Time)'}\n",
      "{'Server': 'nginx', 'Date': 'Tue, 11 Oct 2022 13:09:17 GMT', 'Content-Type': 'image/jpeg', 'Content-Length': '1428016', 'Last-Modified': 'Sat, 24 Aug 2019 22:14:50 GMT', 'Connection': 'keep-alive', 'ETag': '\"5d61b6da-15ca30\"', 'Expires': 'Thu, 10 Nov 2022 13:09:17 GMT', 'Cache-Control': 'max-age=2592000', 'X-Frame-Options': 'SAMEORIGIN', 'Accept-Ranges': 'bytes'}\n",
      "{'Server': 'nginx', 'Date': 'Tue, 11 Oct 2022 13:09:20 GMT', 'Content-Type': 'image/jpeg', 'Content-Length': '1428016', 'Last-Modified': 'Sat, 24 Aug 2019 22:14:50 GMT', 'Connection': 'keep-alive', 'ETag': '\"5d61b6da-15ca30\"', 'Expires': 'Thu, 10 Nov 2022 13:09:20 GMT', 'Cache-Control': 'max-age=2592000', 'X-Frame-Options': 'SAMEORIGIN', 'Accept-Ranges': 'bytes'}\n",
      "{'Server': 'nginx', 'Date': 'Tue, 11 Oct 2022 13:09:23 GMT', 'Content-Type': 'image/jpeg', 'Content-Length': '1428016', 'Last-Modified': 'Sat, 24 Aug 2019 22:14:50 GMT', 'Connection': 'keep-alive', 'ETag': '\"5d61b6da-15ca30\"', 'Expires': 'Thu, 10 Nov 2022 13:09:23 GMT', 'Cache-Control': 'max-age=2592000', 'X-Frame-Options': 'SAMEORIGIN', 'Accept-Ranges': 'bytes'}\n",
      "{'Server': 'nginx', 'Date': 'Tue, 11 Oct 2022 13:09:25 GMT', 'Content-Type': 'image/jpeg', 'Content-Length': '1428016', 'Last-Modified': 'Sat, 24 Aug 2019 22:14:50 GMT', 'Connection': 'keep-alive', 'ETag': '\"5d61b6da-15ca30\"', 'Expires': 'Thu, 10 Nov 2022 13:09:25 GMT', 'Cache-Control': 'max-age=2592000', 'X-Frame-Options': 'SAMEORIGIN', 'Accept-Ranges': 'bytes'}\n",
      "Execution time: 29.04213857650757 seconds\n"
     ]
    }
   ],
   "source": [
    "##EDITAR ESTO, SOLO DEBE SER UNA URL POR THREAD --> POSIBLE SOLUCION ES RECORRER LA LISTA EN EL FOR CON EL NUMERO VECES MATAR Y 1 URL POR THREAD\n",
    "import time\n",
    "\n",
    "st = time.time()\n",
    "\n",
    "url2= [\"https://www.tooltyp.com/wp-content/uploads/2014/10/1900x920-8-beneficios-de-usar-imagenes-en-nuestros-sitios-web.jpgy\",\"https://empresas.blogthinkbig.com/wp-content/uploads/2019/11/Imagen3-245003649.jpg?w=800\",\"https://c8.alamy.com/compes/dmw74c/cadenas-pesadas-de-grandes-barcos-dmw74c.jpg\",\"https://c8.alamy.com/compes/dmw74c/cadenas-pesadas-de-grandes-barcos-dmw74c.jpg\",\"https://c8.alamy.com/compes/dmw74c/cadenas-pesadas-de-grandes-barcos-dmw74c.jpg\",\"https://fondosmil.com/fondo/17009.jpg\",\"https://fondosmil.com/fondo/17009.jpg\",\"https://fondosmil.com/fondo/17009.jpg\",\"https://fondosmil.com/fondo/17009.jpg\"]\n",
    "def desc(urlMaster):\n",
    "    response=requests.get(urlMaster)\n",
    "    print(response.headers)\n",
    "y=0\n",
    "for i in range(len(url2)):\n",
    "    desc(url2[y]) ##un for simple para descargar imagenes\n",
    "    y=y+1\n",
    "    \n",
    "et = time.time()\n",
    "elapsed_time = et - st\n",
    "print('Execution time:', elapsed_time, 'seconds')"
   ]
  },
  {
   "cell_type": "code",
   "execution_count": null,
   "id": "c8dfb9b3-a828-4b6a-a2dd-fa6e20f2726e",
   "metadata": {},
   "outputs": [],
   "source": []
  }
 ],
 "metadata": {
  "kernelspec": {
   "display_name": "Python 3 (ipykernel)",
   "language": "python",
   "name": "python3"
  },
  "language_info": {
   "codemirror_mode": {
    "name": "ipython",
    "version": 3
   },
   "file_extension": ".py",
   "mimetype": "text/x-python",
   "name": "python",
   "nbconvert_exporter": "python",
   "pygments_lexer": "ipython3",
   "version": "3.10.2"
  }
 },
 "nbformat": 4,
 "nbformat_minor": 5
}
