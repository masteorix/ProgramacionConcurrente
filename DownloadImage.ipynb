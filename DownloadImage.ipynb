{
 "cells": [
  {
   "cell_type": "code",
   "execution_count": 16,
   "id": "7f679682-f554-404c-8fd3-9bfa53a1f20e",
   "metadata": {},
   "outputs": [
    {
     "name": "stdout",
     "output_type": "stream",
     "text": [
      "Execution time: 35.302403688430786 seconds\n"
     ]
    }
   ],
   "source": [
    "##EDITAR ESTO, SOLO DEBE SER UNA URL POR THREAD --> POSIBLE SOLUCION ES RECORRER LA LISTA EN EL FOR CON EL NUMERO VECES MATAR Y 1 URL POR THREAD\n",
    "import time\n",
    "import threading, os, platform, requests, json\n",
    "import shutil\n",
    "st = time.time()\n",
    "\n",
    "url2= [\"https://www.tooltyp.com/wp-content/uploads/2014/10/1900x920-8-beneficios-de-usar-imagenes-en-nuestros-sitios-web.jpgy\",\"https://empresas.blogthinkbig.com/wp-content/uploads/2019/11/Imagen3-245003649.jpg?w=800\",\"https://c8.alamy.com/compes/dmw74c/cadenas-pesadas-de-grandes-barcos-dmw74c.jpg\",\"https://c8.alamy.com/compes/dmw74c/cadenas-pesadas-de-grandes-barcos-dmw74c.jpg\",\"https://c8.alamy.com/compes/dmw74c/cadenas-pesadas-de-grandes-barcos-dmw74c.jpg\",\"https://fondosmil.com/fondo/17009.jpg\",\"https://fondosmil.com/fondo/17009.jpg\",\"https://fondosmil.com/fondo/17009.jpg\",\"https://fondosmil.com/fondo/17009.jpg\"]\n",
    "def desc(urlMaster,y):\n",
    "    #print(requests.get(u))\n",
    "    response=requests.get(urlMaster)\n",
    "    #print(response.content)\n",
    "    #print(response.headers)\n",
    "    threading.current_thread() ## ver cual es el thread\n",
    "    \n",
    "    with open(\"output\"+str(y)+\".png\", 'wb') as file:\n",
    "            file.write(response.content)\n",
    "    \n",
    "    \n",
    "y=0\n",
    "for i in range(len(url2)):\n",
    "    threading.Thread(target=desc(url2[y],y)).start() ##crea un hilo y que ese hilo se encargue de matar y asi se crearan varios hilos\n",
    "    y=y+1\n",
    "    \n",
    "et = time.time()\n",
    "elapsed_time = et - st\n",
    "print('Execution time:', elapsed_time, 'seconds')"
   ]
  },
  {
   "cell_type": "code",
   "execution_count": null,
   "id": "a99b8c77-e2f7-4e3d-960c-fc4b67f515d9",
   "metadata": {},
   "outputs": [],
   "source": []
  }
 ],
 "metadata": {
  "kernelspec": {
   "display_name": "Python 3 (ipykernel)",
   "language": "python",
   "name": "python3"
  },
  "language_info": {
   "codemirror_mode": {
    "name": "ipython",
    "version": 3
   },
   "file_extension": ".py",
   "mimetype": "text/x-python",
   "name": "python",
   "nbconvert_exporter": "python",
   "pygments_lexer": "ipython3",
   "version": "3.10.2"
  }
 },
 "nbformat": 4,
 "nbformat_minor": 5
}
